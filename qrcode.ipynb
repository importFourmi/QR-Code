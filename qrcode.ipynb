{
 "cells": [
  {
   "cell_type": "code",
   "execution_count": 1,
   "id": "190233a1",
   "metadata": {},
   "outputs": [
    {
     "name": "stdout",
     "output_type": "stream",
     "text": [
      "Collecting qrcode[pil]\n",
      "  Downloading qrcode-7.3.1.tar.gz (43 kB)\n",
      "     ---------------------------------------- 43.5/43.5 KB 2.2 MB/s eta 0:00:00\n",
      "  Preparing metadata (setup.py): started\n",
      "  Preparing metadata (setup.py): finished with status 'done'\n",
      "Requirement already satisfied: colorama in c:\\users\\calvi\\calvenv\\lib\\site-packages (from qrcode[pil]) (0.4.4)\n",
      "Requirement already satisfied: pillow in c:\\users\\calvi\\calvenv\\lib\\site-packages (from qrcode[pil]) (9.0.1)\n",
      "Building wheels for collected packages: qrcode\n",
      "  Building wheel for qrcode (setup.py): started\n",
      "  Building wheel for qrcode (setup.py): finished with status 'done'\n",
      "  Created wheel for qrcode: filename=qrcode-7.3.1-py3-none-any.whl size=40401 sha256=632e40a18caa480ece484e8a6c7ecbcdc883e2d7e136933129ebf460cbe27c40\n",
      "  Stored in directory: c:\\users\\calvi\\appdata\\local\\pip\\cache\\wheels\\93\\54\\16\\55cec87f8d902ed84b94ab8fdb7e89ae1158c06e130bc83b03\n",
      "Successfully built qrcode\n",
      "Installing collected packages: qrcode\n",
      "Successfully installed qrcode-7.3.1\n",
      "Requirement already satisfied: opencv-python in c:\\users\\calvi\\calvenv\\lib\\site-packages (4.5.5.64)\n",
      "Requirement already satisfied: numpy>=1.17.3 in c:\\users\\calvi\\calvenv\\lib\\site-packages (from opencv-python) (1.21.5)\n",
      "Requirement already satisfied: numpy in c:\\users\\calvi\\calvenv\\lib\\site-packages (1.21.5)\n"
     ]
    }
   ],
   "source": [
    "!pip install qrcode[pil]\n",
    "!pip install opencv-python\n",
    "!pip install numpy"
   ]
  },
  {
   "cell_type": "code",
   "execution_count": 1,
   "id": "fbab7da2",
   "metadata": {},
   "outputs": [
    {
     "data": {
      "text/plain": [
       "True"
      ]
     },
     "execution_count": 1,
     "metadata": {},
     "output_type": "execute_result"
    }
   ],
   "source": [
    "import cv2\n",
    "import qrcode\n",
    "import numpy as np\n",
    "from PIL import Image\n",
    "\n",
    "def create_qrcode(link):\n",
    "    \"\"\"\n",
    "    Fonction qui génère un QR Code d'un lien avec un fond blanc et un transparent.\n",
    "    \n",
    "    :param link: le lien du site\n",
    "    \n",
    "    :return: True\n",
    "    \"\"\"\n",
    "    # Usage avancé des QR Code\n",
    "    qr = qrcode.QRCode(version=1,\n",
    "                       error_correction=qrcode.constants.ERROR_CORRECT_H,\n",
    "                       box_size=10,\n",
    "    # version: taille du QR Code entre 1(21*21) to 40\n",
    "    # box_size: nombre de pixels de chaque carré du QR Code\n",
    "    # border: épaisseur du bord de chaque carré du QR Code\n",
    "    # error_correction: aide si l'image est déformée :\n",
    "        # ERROR_CORRECT_L => 7% d'erreurs peuvent être corrigées\n",
    "        # ERROR_CORRECT_M => 15% d'erreurs peuvent être corrigées\n",
    "        # ERROR_CORRECT_Q => 25% d'erreurs peuvent être corrigées\n",
    "        # ERROR_CORRECT_H => 30% d'erreurs peuvent être corrigées\n",
    "                       )\n",
    "\n",
    "    # Mettre les données d'entrée\n",
    "    qr.add_data(link)\n",
    "    # Assure que toute la dimension du QR Code est utilisée même si il pourrait utiliser moins de cases\n",
    "    qr.make(fit=True)\n",
    "    \n",
    "    # On convertit en images\n",
    "    img = qr.make_image(fill_color=\"black\", back_color=\"white\").convert('RGB')\n",
    "    # On enregistre l'image fond blanc\n",
    "    img.save(\"qr_code_white.png\")\n",
    "    \n",
    "    # On lit l'image avec le fond en blanc\n",
    "    image_bgr = cv2.imread(\"qr_code_white.png\")\n",
    "    # On prend les dimensions de l'image\n",
    "    h, w, c = image_bgr.shape\n",
    "    # On rajoute un Alpha pour la transparence\n",
    "    image_bgra = np.concatenate([image_bgr, np.full((h, w, 1), 255, dtype=np.uint8)], axis=-1)\n",
    "    # On note les index des pixels blancs\n",
    "    white = np.all(image_bgr == [255, 255, 255], axis=-1)\n",
    "    # On met les pixels en transparent\n",
    "    image_bgra[white, -1] = 0\n",
    "    # On enregistre l'image fond transparent\n",
    "    cv2.imwrite(\"qr_code_transparent.png\", image_bgra)\n",
    "    return True\n",
    "\n",
    "create_qrcode(\"https://galagain.com/cv.pdf\")"
   ]
  },
  {
   "cell_type": "code",
   "execution_count": null,
   "id": "29b7d2a1",
   "metadata": {},
   "outputs": [],
   "source": []
  }
 ],
 "metadata": {
  "kernelspec": {
   "display_name": "Python 3 (ipykernel)",
   "language": "python",
   "name": "python3"
  },
  "language_info": {
   "codemirror_mode": {
    "name": "ipython",
    "version": 3
   },
   "file_extension": ".py",
   "mimetype": "text/x-python",
   "name": "python",
   "nbconvert_exporter": "python",
   "pygments_lexer": "ipython3",
   "version": "3.9.12"
  },
  "toc": {
   "base_numbering": 1,
   "nav_menu": {},
   "number_sections": true,
   "sideBar": true,
   "skip_h1_title": false,
   "title_cell": "Table of Contents",
   "title_sidebar": "Contents",
   "toc_cell": false,
   "toc_position": {},
   "toc_section_display": true,
   "toc_window_display": false
  }
 },
 "nbformat": 4,
 "nbformat_minor": 5
}
