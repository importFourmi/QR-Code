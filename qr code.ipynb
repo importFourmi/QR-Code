{
 "cells": [
  {
   "cell_type": "code",
   "execution_count": 1,
   "id": "fbab7da2",
   "metadata": {},
   "outputs": [
    {
     "data": {
      "text/plain": [
       "True"
      ]
     },
     "execution_count": 1,
     "metadata": {},
     "output_type": "execute_result"
    }
   ],
   "source": [
    "import cv2\n",
    "import qrcode\n",
    "import numpy as np\n",
    "from PIL import Image\n",
    "\n",
    "def create_qrcode(link):\n",
    "    \"\"\"\n",
    "    Fonction qui génère un QR Code d'un lien avec un fond blanc et un transparent.\n",
    "    \n",
    "    :param link: le lien du site\n",
    "    \n",
    "    :return: True\n",
    "    \"\"\"\n",
    "    # Usage avancé des QR Code\n",
    "    qr = qrcode.QRCode(version=1,\n",
    "                       error_correction=qrcode.constants.ERROR_CORRECT_H,\n",
    "                       box_size=10,\n",
    "    # version: taille du QR Code entre 1(21*21) to 40\n",
    "    # box_size: nombre de pixels de chaque carré du QR Code\n",
    "    # border: épaisseur du bord de chaque carré du QR Code\n",
    "    # error_correction: aide si l'image est déformée :\n",
    "        # ERROR_CORRECT_L => 7% d'erreurs peuvent être corrigées\n",
    "        # ERROR_CORRECT_M => 15% d'erreurs peuvent être corrigées\n",
    "        # ERROR_CORRECT_Q => 25% d'erreurs peuvent être corrigées\n",
    "        # ERROR_CORRECT_H => 30% d'erreurs peuvent être corrigées\n",
    "                       )\n",
    "\n",
    "    # Mettre les données d'entrée\n",
    "    qr.add_data(link)\n",
    "    # Assure que toute la dimension du QR Code est utilisée même si il pourrait utiliser moins de cases\n",
    "    qr.make(fit=True)\n",
    "    \n",
    "    # On convertit en images\n",
    "    img = qr.make_image(fill_color=\"black\", back_color=\"white\").convert('RGB')\n",
    "    # On enregistre l'image fond blanc\n",
    "    img.save(\"qr_code_white.png\")\n",
    "    \n",
    "    # On lit l'image avec le fond en blanc\n",
    "    image_bgr = cv2.imread(\"qr_code_white.png\")\n",
    "    # On prend les dimensions de l'image\n",
    "    h, w, c = image_bgr.shape\n",
    "    # On rajoute un Alpha pour la transparence\n",
    "    image_bgra = np.concatenate([image_bgr, np.full((h, w, 1), 255, dtype=np.uint8)], axis=-1)\n",
    "    # On note les index des pixels blancs\n",
    "    white = np.all(image_bgr == [255, 255, 255], axis=-1)\n",
    "    # On met les pixels en transparent\n",
    "    image_bgra[white, -1] = 0\n",
    "    # On enregistre l'image fond transparent\n",
    "    cv2.imwrite(\"qr_code_transparent.png\", image_bgra)\n",
    "    return True\n",
    "\n",
    "create_qrcode(\"https://galagain.com/cv.pdf\")"
   ]
  }
 ],
 "metadata": {
  "kernelspec": {
   "display_name": "Python 3 (ipykernel)",
   "language": "python",
   "name": "python3"
  },
  "language_info": {
   "codemirror_mode": {
    "name": "ipython",
    "version": 3
   },
   "file_extension": ".py",
   "mimetype": "text/x-python",
   "name": "python",
   "nbconvert_exporter": "python",
   "pygments_lexer": "ipython3",
   "version": "3.9.12"
  },
  "toc": {
   "base_numbering": 1,
   "nav_menu": {},
   "number_sections": true,
   "sideBar": true,
   "skip_h1_title": false,
   "title_cell": "Table of Contents",
   "title_sidebar": "Contents",
   "toc_cell": false,
   "toc_position": {},
   "toc_section_display": true,
   "toc_window_display": false
  }
 },
 "nbformat": 4,
 "nbformat_minor": 5
}
